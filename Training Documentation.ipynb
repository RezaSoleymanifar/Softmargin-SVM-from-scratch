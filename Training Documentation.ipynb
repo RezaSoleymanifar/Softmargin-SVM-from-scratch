{
 "cells": [
  {
   "cell_type": "markdown",
   "metadata": {},
   "source": [
    "# Documentation"
   ]
  },
  {
   "cell_type": "markdown",
   "metadata": {},
   "source": [
    "### Interior Point Method for SVM's"
   ]
  },
  {
   "cell_type": "markdown",
   "metadata": {},
   "source": [
    "Consider the Support Vector Machine problem for binary classification:\n",
    "$\n",
    "\\begin{align*}\n",
    "\\min_{w,b} \\quad  &\\frac{1}{m}\\sum_{i=1}^m \\max(1-y_i(w^Tx_i+b),0) +\\lambda \\|w\\|_2^2 \\tag{$P$}\\\\\n",
    "\\end{align*}\n",
    "$"
   ]
  },
  {
   "cell_type": "markdown",
   "metadata": {},
   "source": [
    " We will write down the detailed algorithmic scheme to solve (P) through interior point method. We first transform problem into a QCQP:"
   ]
  },
  {
   "cell_type": "markdown",
   "metadata": {},
   "source": [
    "$\n",
    "\\begin{align*}\n",
    "\\min_{w, b, \\epsilon}\\quad &  t\\\\\n",
    "\\text{s.t.} \\quad & \n",
    "\\lambda\\|w\\|_2^2 + \\frac{1}{m}\\sum_{i=1}^m \\epsilon_i - t\n",
    "\\leq 0\\\\ &-y_i(w^\\top x_i + b) + 1- \\epsilon_i\\leq 0, \\; j=1,\\ldots,m\n",
    "\\\\&\\epsilon_i\\geq 0, \\; j=1,\\ldots,m\n",
    "\\end{align*}\n",
    "$"
   ]
  },
  {
   "cell_type": "markdown",
   "metadata": {},
   "source": [
    "We can express this optimization problem as a QCQP more concretely as:\n",
    "\n",
    "$\n",
    "\\begin{align*}\n",
    "\\min_{y\\in\\mathbb{R}^{n+m+2}}\\quad &  \\bar{c}^\\top y\\\\\n",
    "\\text{s.t.} \\quad & q_0(y) \\geq 0\\\\ &q_j(y)\\geq 0, \\; j=1,\\ldots,m\\\\\n",
    "&u_j(y) \\geq 0, \\; j=1,\\ldots,m\n",
    "\\end{align*}\n",
    "$"
   ]
  },
  {
   "cell_type": "markdown",
   "metadata": {},
   "source": [
    "Where:\n",
    "    \n",
    "$\n",
    "y = \\begin{bmatrix}\n",
    "w\\\\\\epsilon\\\\b\\\\t\\\\ \\end{bmatrix}\\quad\n",
    "\\bar{c} = \\begin{bmatrix}\n",
    "\\bar{0}^n\\\\\\bar{0}^m\\\\0\\\\1\n",
    "\\\n",
    "\\end{bmatrix}\n",
    "\\quad\n",
    "q_0 = -\\lambda y^\\top\\Gamma_0y+ \\gamma_0^\\top y\\quad q_j = \\gamma_j^\\top y -1,\\quad j=1,\\ldots,m\n",
    "$\n",
    "\n",
    "$\n",
    "u_j = e_{i+n}^{{(n+m+2)}^\\top} y,\\quad\n",
    "\\Gamma_0 = \\begin{bmatrix}\n",
    "&I_{n\\times n} &0\\\\ &0 &0\n",
    "\\end{bmatrix}\n",
    "\\quad\n",
    "\\gamma_0=\n",
    "\\begin{bmatrix}\n",
    "\\bar{0}^{n} \\\\-\\frac{1}{m}\\mathbb{1}\\\\\n",
    "0\\\\1\n",
    "\\end{bmatrix}\n",
    "\\gamma_j=\n",
    "\\begin{bmatrix}\n",
    "y_i x_i^\\top \\\\e_i^m\\\\y_i\\\\0\n",
    "\\end{bmatrix}\n",
    "$"
   ]
  },
  {
   "cell_type": "markdown",
   "metadata": {},
   "source": [
    "Where $e_i^m$ is the unit basis vector with size $m$ and $i$'th element set to one and $\\mathbb{1}$ is a column vector with all entries set to $1$."
   ]
  },
  {
   "cell_type": "markdown",
   "metadata": {},
   "source": [
    "We are now ready to solve this convex quadratic program using barrier interior point method with Newton steps. Note this scheme has two separate phases. First we move in the solution space to reach the quadratic convergence zone for Newton steps. This is where newton decrements are equal or less than $1/4$. Then phase 2 starts in which we  optimize the objective function. Denote:\n",
    "\n",
    "$\n",
    "F_\\theta(y) = \\min_y \\theta \\bar{c}^\\top y - \\sum_{j=0}^m \\log(q_j) - \\sum_{i=1}^m u_i = \\min_y \\theta \\bar{c}^\\top y + F(y)\n",
    "$\n",
    "\n",
    "Now:\n",
    "\n",
    "$\n",
    "\\nabla q_0 = -2\\lambda\\Gamma_0 y + \\gamma_0\n",
    "\\quad\\nabla^2 q_0 = -2\\lambda\\Gamma_0\n",
    "\\quad\\nabla q_j = \\gamma_j\n",
    "\\quad\\nabla u_j = e_{i+n}^{(n+m+2)}\n",
    "$\n",
    "\n",
    "And:\n",
    "\n",
    "$\n",
    "\\nabla F(y) = -\\left[\n",
    "\\sum_{j=0}^m \\frac{\\nabla q_j}{q_j} +  \\sum_{j= 1}^m \\frac{\\nabla u_j}{u_j}\n",
    "\\right]\n",
    ",\\quad\n",
    "\\nabla^2 F(y) = \\sum_{j=0}^m \\frac{\\nabla q_j\\nabla^\\top q_j}{q_j^2} + \\sum_{j=1}^m \\frac{\\nabla u_j \\nabla^\\top u_j}{u_j^2}\n",
    "-\\frac{\\nabla^2 q_0}{q_0}\n",
    "$"
   ]
  },
  {
   "cell_type": "markdown",
   "metadata": {},
   "source": [
    "Algorithm:\n",
    "Start with $(y_0, \\theta_0),\\quad \\theta_0 \\geq 0$ and $\\lambda_{F_{\\theta_0}(y_0)} \\leq 1/4$.\n",
    "\n",
    "$\n",
    "\\theta_{k+1} = \\theta_k(1 + \\frac{\\gamma}{\\sqrt{2m + 1}})\n",
    "$\n",
    "\n",
    "$\n",
    "y_{k+1}= y_k - [\\nabla^2F(y_k)]^{-1}[\\theta_{k+1} \\bar{c} + \\nabla F(y_k)]\n",
    "$\n",
    "\n",
    "If initial point is not available initialize IPM with damped Newton method and a feasible solution $y_0$ and $\\theta_0 =1$\n",
    ":\n",
    "\n",
    "$\n",
    "y_{k+1}= y_k - \\gamma_f[\\nabla^2F(y_k)]^{-1}[\\theta_{0} \\bar{c} + \\nabla F(y_k)]\n",
    "$\n",
    "\n",
    "where $\\gamma_f= \\frac{1}{1+ \\lambda_F}$ and $\\lambda_F$ is the Newton decrement."
   ]
  },
  {
   "cell_type": "markdown",
   "metadata": {},
   "source": [
    "### Ellipsoid Method:"
   ]
  },
  {
   "cell_type": "markdown",
   "metadata": {},
   "source": [
    "Ellipsoid method is generally slow specially if dimensionality of problem is big. For this dataset (32 features) Ellipsoid method performs reasonably well, although it is still subpar to interior point methods.\n",
    "We first need to compute the first order oracle:\n",
    "\n",
    "$\n",
    "f(w, b) = \\frac{1}{m}\\sum_{i=1}^m \\max(1-y_i(w^Tx_i+b),0) +\\lambda \\|w\\|_2^2\n",
    "=\n",
    "\\frac{1}{m}\\sum_{i=1}^m g_i(w,b) +\\lambda \\|w\\|_2^2\n",
    "$\n",
    "\n",
    "$\n",
    "\\nabla g_i(w,b) = \\left\\{ \n",
    "\\begin{matrix}\n",
    "&-y_i\n",
    "\\begin{bmatrix}\n",
    "x_i\\\\ 1\n",
    "\\end{bmatrix}\n",
    "&1 - y_i(w\\top x_i +b)\\geq0\n",
    "\\\\&\\bar{0}^{(n+1)} &O.W.\n",
    "\\end{matrix}\n",
    "\\right.\n",
    "$\n",
    "\n",
    "$\n",
    "\\nabla f(w, b) = \\frac{1}{m}\\sum_{i=1}^m \\nabla g_i(w, b) + \\begin{bmatrix}\n",
    "2\\lambda w\\\\ 0\n",
    "\\end{bmatrix}\n",
    "$\n",
    "\n",
    "Ellipsoid algorithm for SVM:\n",
    "initialize with $c_0 = \\begin{bmatrix}\n",
    "w_0\\\\b_0\n",
    "\\end{bmatrix}$ and $Q_0 = R^2 I$. Denote $w = \\nabla f(w, b)$\n",
    "\n",
    "$\n",
    "c_t = c_{t-1}- \\frac{1}{n+1}\\frac{Q_{t-1}w}{\\sqrt{w^\\top Q_{t-1}w}}\n",
    "$\n",
    "\n",
    "$\n",
    "Q_t = \\frac{n^2}{n^2 - 1}\\left(\n",
    "Q_{t-1} - \\frac{2}{n+1}\\frac{Q_{t-1} w w^\\top Q_{t-1}}{w^\\top Q_{t-1} w}\n",
    "\\right)\n",
    "$\n",
    "\n",
    "output best observed objective value."
   ]
  }
 ],
 "metadata": {
  "kernelspec": {
   "display_name": "Python 3",
   "language": "python",
   "name": "python3"
  },
  "language_info": {
   "codemirror_mode": {
    "name": "ipython",
    "version": 3
   },
   "file_extension": ".py",
   "mimetype": "text/x-python",
   "name": "python",
   "nbconvert_exporter": "python",
   "pygments_lexer": "ipython3",
   "version": "3.7.6"
  }
 },
 "nbformat": 4,
 "nbformat_minor": 2
}
